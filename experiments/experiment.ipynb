{
 "cells": [
  {
   "cell_type": "markdown",
   "metadata": {},
   "source": [
    "# Freqgen Example Use\n",
    "\n",
    "We are going to recode the GFP gene from _Aequorea victoria_ to match the highly expressed genes of _Escherichia coli_."
   ]
  },
  {
   "cell_type": "code",
   "execution_count": 1,
   "metadata": {},
   "outputs": [
    {
     "data": {
      "text/plain": [
       "Seq('ATGAGTAAAGGAGAAGAACTTTTCACTGGAGTTGTCCCAATTCTTGTTGAATTA...TAA', SingleLetterAlphabet())"
      ]
     },
     "execution_count": 1,
     "metadata": {},
     "output_type": "execute_result"
    }
   ],
   "source": [
    "from Bio import SeqIO\n",
    "\n",
    "# first, get the sequence of GFP\n",
    "insert = SeqIO.read(\"example_seqs/gfp.fasta\", \"fasta\").seq\n",
    "insert"
   ]
  },
  {
   "cell_type": "code",
   "execution_count": 2,
   "metadata": {},
   "outputs": [],
   "source": [
    "# next, we'll get the sequences of the highly expressed E. coli genes\n",
    "target = []\n",
    "with open(\"example_seqs/ecoli.heg.fasta\", \"r\") as handle:\n",
    "        for seq in SeqIO.parse(handle, \"fasta\"):\n",
    "            seq = str(seq.seq)\n",
    "            target.append(seq)"
   ]
  },
  {
   "cell_type": "code",
   "execution_count": 64,
   "metadata": {},
   "outputs": [
    {
     "name": "stdout",
     "output_type": "stream",
     "text": [
      "Gen: 191        Since Improvement: 50/50      Fitness: 0.009455591900147605\n",
      "duration: 0:01:51.945658\n"
     ]
    }
   ],
   "source": [
    "import freqgen\n",
    "from datetime import datetime\n",
    "\n",
    "k = 2\n",
    "    \n",
    "target_freqs = freqgen.k_mer_frequencies(target, k)\n",
    "start = datetime.now()\n",
    "result = freqgen.generate({k: target_freqs}, insert.translate(), verbose=True, mode=\"ED\")\n",
    "print(\"duration:\", datetime.now() - start)\n",
    "\n",
    "insert_freqs = freqgen.k_mer_frequencies(insert, k)\n",
    "result_freqs = freqgen.k_mer_frequencies(result, k)"
   ]
  },
  {
   "cell_type": "code",
   "execution_count": 65,
   "metadata": {},
   "outputs": [
    {
     "name": "stdout",
     "output_type": "stream",
     "text": [
      "generating rectangles!\n"
     ]
    }
   ],
   "source": [
    "import numpy as np\n",
    "import matplotlib.pyplot as plt\n",
    "\n",
    "%matplotlib inline\n",
    "\n",
    "print(\"generating rectangles!\")\n",
    "N = len(result_freqs)\n",
    "ind = np.arange(N)  # the x locations for the groups\n"
   ]
  },
  {
   "cell_type": "code",
   "execution_count": 70,
   "metadata": {},
   "outputs": [
    {
     "name": "stdout",
     "output_type": "stream",
     "text": [
      "fixing axes!\n",
      "plotting!\n"
     ]
    },
    {
     "data": {
      "image/png": "[encoded data removed]",
      "text/plain": [
       "<Figure size 1080x360 with 1 Axes>"
      ]
     },
     "metadata": {},
     "output_type": "display_data"
    }
   ],
   "source": [
    "\n",
    "width = 0.25       # the width of the bars\n",
    "fig, ax = plt.subplots(figsize=(15, 5))\n",
    "rects1 = ax.bar(ind, [insert_freqs[key] for key in sorted(insert_freqs.keys())], width, color='b')\n",
    "rects2 = ax.bar(ind + width, [target_freqs[key] for key in sorted(target_freqs.keys())], width, color='g')\n",
    "rects3 = ax.bar(ind + 2*width, [result_freqs[key] for key in sorted(result_freqs.keys())], width, color='r')\n",
    "\n",
    "print(\"fixing axes!\")\n",
    "# add some text for labels, title and axes ticks\n",
    "ax.set_xticks(ind + 2*width / 2)\n",
    "ax.set_xticklabels([f\"{i}\" for i in sorted(insert_freqs.keys())])\n",
    "ax.legend((rects1[0], rects2[0], rects3[0]), ('Original', 'Target', \"Result\"))\n",
    "ax.set_xlabel(\"2-mer\")\n",
    "ax.set_ylabel(\"frequency\")\n",
    "\n",
    "print(\"plotting!\")\n",
    "plt.show()"
   ]
  },
  {
   "cell_type": "code",
   "execution_count": 67,
   "metadata": {},
   "outputs": [
    {
     "name": "stdout",
     "output_type": "stream",
     "text": [
      "0.08418121898556763 0.0824022346368715 0.02113279387176754\n",
      "0.05179741656880942 0.05446927374301676 0.05158282692840387\n",
      "0.04839198454486912 0.05027932960893855 0.039001191660562706\n",
      "0.06270313269442024 0.0670391061452514 0.06915082651391997\n",
      "0.03792946702526611 0.040502793296089384 0.06784504166929353\n",
      "0.045694912686086595 0.0446927374301676 0.021931878124020192\n",
      "0.08110155687715444 0.07960893854748603 0.018404311669741345\n",
      "0.05809689760975795 0.055865921787709494 0.03840094589962647\n",
      "0.06859729535209667 0.0712290502793296 0.038365287052858854\n",
      "0.06382059926512368 0.061452513966480445 0.03710534413513933\n",
      "0.060718209023069056 0.05865921787709497 0.03391060406923066\n",
      "0.08118868138944657 0.07960893854748603 0.01945767334713584\n",
      "0.056411227698018866 0.06005586592178771 0.06460838333956062\n",
      "0.06150611765597182 0.06005586592178771 0.023578983513411523\n",
      "0.08407136633963408 0.0824022346368715 0.019853747779232767\n",
      "0.05378991628470776 0.051675977653631286 0.03929990557872378\n"
     ]
    }
   ],
   "source": [
    "errors = []\n",
    "for kmer in result_freqs:\n",
    "    error = abs(result_freqs[kmer] - target_freqs[kmer]) / target_freqs[kmer]\n",
    "    errors.append(error)\n",
    "    print(target_freqs[kmer], result_freqs[kmer], error)"
   ]
  },
  {
   "cell_type": "code",
   "execution_count": 68,
   "metadata": {},
   "outputs": [],
   "source": [
    "import numpy as np\n",
    "errors = np.array(errors)"
   ]
  },
  {
   "cell_type": "code",
   "execution_count": 69,
   "metadata": {},
   "outputs": [
    {
     "data": {
      "text/plain": [
       "0.037726859072039313"
      ]
     },
     "execution_count": 69,
     "metadata": {},
     "output_type": "execute_result"
    }
   ],
   "source": [
    "errors.mean()"
   ]
  },
  {
   "cell_type": "code",
   "execution_count": null,
   "metadata": {},
   "outputs": [],
   "source": []
  }
 ],
 "metadata": {
  "kernelspec": {
   "display_name": "Python 3",
   "language": "python",
   "name": "python3"
  },
  "language_info": {
   "codemirror_mode": {
    "name": "ipython",
    "version": 3
   },
   "file_extension": ".py",
   "mimetype": "text/x-python",
   "name": "python",
   "nbconvert_exporter": "python",
   "pygments_lexer": "ipython3",
   "version": "3.6.0"
  },
  "widgets": {
   "application/vnd.jupyter.widget-state+json": {
    "state": {},
    "version_major": 2,
    "version_minor": 0
   }
  }
 },
 "nbformat": 4,
 "nbformat_minor": 2
}
